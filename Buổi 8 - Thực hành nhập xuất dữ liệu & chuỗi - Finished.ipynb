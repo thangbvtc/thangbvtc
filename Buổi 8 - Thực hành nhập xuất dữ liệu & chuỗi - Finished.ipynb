{
 "cells": [
  {
   "cell_type": "markdown",
   "id": "5bc93fb0",
   "metadata": {},
   "source": [
    "# Thực hành nhập xuất dữ liệu & chuỗi\n",
    "\n",
    "### Bài tập tra cứu lệnh\n",
    "\n",
    "Nhập vào một chuỗi, kiểm tra xem chuỗi đó có ký tự nào là chữ in hoa hay không, nếu có thì in True, không có thì in False"
   ]
  },
  {
   "cell_type": "code",
   "execution_count": 4,
   "id": "4b3df2ba",
   "metadata": {},
   "outputs": [
    {
     "name": "stdout",
     "output_type": "stream",
     "text": [
      "Nhập vào một chuỗi:Cộng hòa\n",
      "0 C True\n",
      "1 ộ True\n",
      "2 n True\n",
      "3 g True\n",
      "4   True\n",
      "5 h True\n",
      "6 ò True\n",
      "7 a True\n",
      "True\n"
     ]
    }
   ],
   "source": [
    "chuoi = input(\"Nhập vào một chuỗi:\")\n",
    "\n",
    "check = False\n",
    "\n",
    "a = 0\n",
    "\n",
    "for i in range(len(chuoi)):\n",
    "    kt = chuoi[a].isupper()\n",
    "    check = kt or check\n",
    "    print(a,chuoi[a],check)\n",
    "    a += 1\n",
    "    \n",
    "print(check)"
   ]
  },
  {
   "cell_type": "code",
   "execution_count": 12,
   "id": "ab2e6a92",
   "metadata": {},
   "outputs": [
    {
     "name": "stdout",
     "output_type": "stream",
     "text": [
      "Nhập vào một chuỗi: Cộng hòa\n",
      "0 C True\n",
      "1 ộ True\n",
      "2 n True\n",
      "3 g True\n",
      "4   True\n",
      "5 h True\n",
      "6 ò True\n",
      "7 a True\n",
      "True\n"
     ]
    }
   ],
   "source": [
    "x = input(\"Nhập vào một chuỗi: \")\n",
    "a = 0\n",
    "check = False\n",
    "for i in range(len(x)):\n",
    "    kt = x[a].isupper()\n",
    "    check = kt or check\n",
    "    print(a, x[a],check)\n",
    "    a+=1\n",
    "print(check)\n",
    "    "
   ]
  },
  {
   "cell_type": "code",
   "execution_count": 13,
   "id": "3cb16581",
   "metadata": {
    "scrolled": false
   },
   "outputs": [
    {
     "name": "stdout",
     "output_type": "stream",
     "text": [
      "Nhập vào một chuỗi:abcdE\n",
      "0 a\n",
      "1 b\n",
      "2 c\n",
      "3 d\n",
      "4 E\n"
     ]
    }
   ],
   "source": [
    "chuoi = input(\"Nhập vào một chuỗi:\")\n",
    "\n",
    "a = 0\n",
    "for i in range(len(chuoi)):\n",
    "    print(a,chuoi[a])\n",
    "    a += 1"
   ]
  },
  {
   "cell_type": "code",
   "execution_count": 12,
   "id": "039f7f89",
   "metadata": {},
   "outputs": [
    {
     "name": "stdout",
     "output_type": "stream",
     "text": [
      "Nhập vào một chuỗi:AKSJLDSAJDKL\n",
      "True\n"
     ]
    }
   ],
   "source": [
    "#kiểm tra xem chuỗi đó có ký tự nào là chữ in hoa hay không, nếu có thì in True, không có thì in False\n",
    "chuoi = input(\"Nhập vào một chuỗi:\")\n",
    "print(not chuoi.islower())"
   ]
  },
  {
   "cell_type": "markdown",
   "id": "e14eae7c",
   "metadata": {},
   "source": [
    "Nhập vào một chuỗi, kiểm tra xem chuỗi đó có ký tự nào là chữ in thường hay không, nếu có thì in True, không có thì in False"
   ]
  },
  {
   "cell_type": "code",
   "execution_count": 14,
   "id": "ab00180c",
   "metadata": {},
   "outputs": [
    {
     "name": "stdout",
     "output_type": "stream",
     "text": [
      "Nhập vào một chuỗi:abcdE\n",
      "True\n"
     ]
    }
   ],
   "source": [
    "chuoi = input(\"Nhập vào một chuỗi:\")\n",
    "print(not chuoi.isupper())"
   ]
  },
  {
   "cell_type": "markdown",
   "id": "eab86ecf",
   "metadata": {},
   "source": [
    "Nhập vào một chuỗi a và chuỗi b, tìm vị trí đầu tiên xuất hiện chuỗi b trong chuỗi a"
   ]
  },
  {
   "cell_type": "code",
   "execution_count": 15,
   "id": "051eb4af",
   "metadata": {},
   "outputs": [
    {
     "name": "stdout",
     "output_type": "stream",
     "text": [
      "Nhập vào chuỗi a:các bạn ơi\n",
      "Nhập vào chuỗi b:ơi\n",
      "8\n",
      "8\n"
     ]
    }
   ],
   "source": [
    "a = input(\"Nhập vào chuỗi a:\")\n",
    "b = input(\"Nhập vào chuỗi b:\")\n",
    "print(a.find(b)) ### Tìm từ bên trái\n",
    "print(a.rfind(b)) ### Tìm từ bên phải"
   ]
  },
  {
   "cell_type": "markdown",
   "id": "9239bc4e",
   "metadata": {},
   "source": [
    "Nhập vào một chuỗi a, hãy xóa từ đầu tiên trong chuỗi a, rồi in ra màn hình"
   ]
  },
  {
   "cell_type": "code",
   "execution_count": 23,
   "id": "90967cd9",
   "metadata": {},
   "outputs": [
    {
     "name": "stdout",
     "output_type": "stream",
     "text": [
      "Nhập vào chuỗi a:xin chào mọi người\n",
      "chào mọi người\n"
     ]
    }
   ],
   "source": [
    "a = input(\"Nhập vào chuỗi a:\")\n",
    "b = a.find(\" \")\n",
    "a = a[b+1:]\n",
    "print(a)"
   ]
  },
  {
   "cell_type": "code",
   "execution_count": 19,
   "id": "874f4b5e",
   "metadata": {},
   "outputs": [
    {
     "name": "stdout",
     "output_type": "stream",
     "text": [
      "Nhập vào chuỗi a:lớp mình vui quá\n",
      "mình vui quá\n"
     ]
    }
   ],
   "source": [
    "a = input(\"Nhập vào chuỗi a:\")\n",
    "b = a.find(\" \")\n",
    "c = a[b+1:]\n",
    "print(c)"
   ]
  },
  {
   "cell_type": "markdown",
   "id": "05b74fb4",
   "metadata": {},
   "source": [
    "### Bài 1\n",
    "\n",
    "Nhập vào một chuỗi, đếm xem có bao nhiêu từ trong chuỗi kết thúc bằng chữ n"
   ]
  },
  {
   "cell_type": "code",
   "execution_count": 28,
   "id": "d126675c",
   "metadata": {},
   "outputs": [
    {
     "name": "stdout",
     "output_type": "stream",
     "text": [
      "Nhập vào chuỗi a:xin chào các bạn\n",
      "2\n"
     ]
    }
   ],
   "source": [
    "a = input(\"Nhập vào chuỗi a:\")\n",
    "a += \" \"\n",
    "b = a.count(\"n \")\n",
    "print(b)"
   ]
  },
  {
   "cell_type": "markdown",
   "id": "53a78d35",
   "metadata": {},
   "source": [
    "### Bài 2\n",
    "\n",
    "Nhập vào một chuỗi, kiểm tra xem chuỗi đó có ký tự hoa hoặc ký tự thường hay không."
   ]
  },
  {
   "cell_type": "code",
   "execution_count": null,
   "id": "f5be8c39",
   "metadata": {},
   "outputs": [],
   "source": [
    "a = input(\"Nhập vào chuỗi a:\")\n",
    "print(a.isalpha())\n",
    "print(not a.islower() or not a.isupper()) ##\n",
    "print(not (a.islower() and a.isuper()))"
   ]
  },
  {
   "cell_type": "markdown",
   "id": "64ca662e",
   "metadata": {},
   "source": [
    "### Bài 3\n",
    "\n",
    "Nhập vào một chuỗi, kiểm tra tính đối xứng của chuỗi đó"
   ]
  },
  {
   "cell_type": "code",
   "execution_count": 34,
   "id": "749f4136",
   "metadata": {},
   "outputs": [
    {
     "name": "stdout",
     "output_type": "stream",
     "text": [
      "Nhập vào chuỗi a:1222227\n",
      "False\n"
     ]
    }
   ],
   "source": [
    "a = input(\"Nhập vào chuỗi a:\")\n",
    "chuoidaonguoc = a[::-1]\n",
    "print(chuoidaonguoc == a)"
   ]
  },
  {
   "cell_type": "code",
   "execution_count": 31,
   "id": "3af7c74c",
   "metadata": {},
   "outputs": [
    {
     "name": "stdout",
     "output_type": "stream",
     "text": [
      "nhap a:153454321\n",
      "chuoi doi xung: True\n"
     ]
    }
   ],
   "source": [
    "a=input(\"nhap a:\")\n",
    "y=len(a)\n",
    "b=int(a[0])-int(a[-1])\n",
    "i = 0\n",
    "for x in range (y):\n",
    "    b = int(a[i])-int(a[-1-i])\n",
    "    i += 1\n",
    "print(\"chuoi doi xung:\",b==0)"
   ]
  },
  {
   "cell_type": "markdown",
   "id": "85dd8fef",
   "metadata": {},
   "source": [
    "### Bài 4\n",
    "\n",
    "Nhập vào một chuỗi, in ra những ký tự in hoa trong chuỗi đó"
   ]
  },
  {
   "cell_type": "code",
   "execution_count": null,
   "id": "0d099247",
   "metadata": {},
   "outputs": [],
   "source": [
    "a = input(\"Nhập vào chuỗi a:\")\n",
    "stt = 0\n",
    "for i in range(len(a)):\n",
    "    print(a[stt],a[stt].isupper())\n",
    "    stt += 1"
   ]
  },
  {
   "cell_type": "markdown",
   "id": "1373dc74",
   "metadata": {},
   "source": [
    "### Bài 5\n",
    "\n",
    "Nhập vào một chuỗi, tìm các ký tự chỉ xuất hiện một lần trong chuỗi (nếu xuất hiện 1 lần in true, xuất hiện nhiều lần in false)\n",
    "\n",
    "Ví dụ:\n",
    "\n",
    "Nhập chuỗi: \"ABAbc\"\n",
    "\n",
    "In:\n",
    "\n",
    "A: False\n",
    "\n",
    "B: True\n",
    "\n",
    "A: False\n",
    "\n",
    "b: True\n",
    "\n",
    "c: True"
   ]
  },
  {
   "cell_type": "code",
   "execution_count": null,
   "id": "a93bc53d",
   "metadata": {},
   "outputs": [],
   "source": [
    "a = input(\"Nhập vào chuỗi a:\")\n",
    "stt = 0\n",
    "for i in range(len(a)):\n",
    "    b = a[stt]\n",
    "    print(b,\": \",a.count(b) == 1,sep = \"\")\n",
    "    stt += 1"
   ]
  },
  {
   "cell_type": "markdown",
   "id": "69bebf4c",
   "metadata": {},
   "source": [
    "### Bài 6\n",
    "\n",
    "Nhập vào một chuỗi, kiểm tra trong chuỗi có con số hay không, nếu có in True, không có in False"
   ]
  },
  {
   "cell_type": "code",
   "execution_count": null,
   "id": "1b4eab4f",
   "metadata": {},
   "outputs": [],
   "source": [
    "a = input(\"Nhập vào chuỗi a:\")\n",
    "stt = 0\n",
    "kiemtra = False\n",
    "\n",
    "for i in range(len(a)):\n",
    "    b = a[stt]\n",
    "    check = b.isnumeric()\n",
    "    kiemtra = kiemtra or check\n",
    "    stt += 1\n",
    "    \n",
    "print(kiemtra)"
   ]
  },
  {
   "cell_type": "markdown",
   "id": "1e51403c",
   "metadata": {},
   "source": [
    "### Bài 7\n",
    "\n",
    "Nhập vào một chuỗi, tách những con số có trong chuỗi ra rồi tính tổng của chúng\n",
    "\n",
    "In tổng lên màn hình"
   ]
  },
  {
   "cell_type": "code",
   "execution_count": null,
   "id": "a34e349d",
   "metadata": {},
   "outputs": [],
   "source": [
    "a = input(\"Nhập vào chuỗi a:\")\n",
    "so = 0\n",
    "tong = 0\n",
    "\n",
    "for i in range(10):\n",
    "    b = a.count(str(so))\n",
    "    tong += b*so\n",
    "    so += 1\n",
    "\n",
    "print(tong)"
   ]
  },
  {
   "cell_type": "markdown",
   "id": "e951779d",
   "metadata": {},
   "source": [
    "### Bài 8\n",
    "\n",
    "Nhập vào một chuỗi, đảo ngược chuỗi đã nhập rồi in ra màn hình"
   ]
  },
  {
   "cell_type": "code",
   "execution_count": 56,
   "id": "9305f0f1",
   "metadata": {},
   "outputs": [
    {
     "name": "stdout",
     "output_type": "stream",
     "text": [
      "Nhập vào chuỗi a:abc\n",
      "cba\n"
     ]
    }
   ],
   "source": [
    "a = input(\"Nhập vào chuỗi a:\")\n",
    "a = a[::-1]\n",
    "print(a)"
   ]
  },
  {
   "cell_type": "markdown",
   "id": "04194b5c",
   "metadata": {},
   "source": [
    "### Bài 9\n",
    "\n",
    "Nhập vào một chuỗi, kiểm tra xem mỗi từ trong chuỗi có được viết hoa chữ cái đầu hay không, nếu tất cả đều được viết hoa thì in ra True, còn không thì in ra False\n",
    "\n",
    "Trong trường hợp là False, hãy viết hoa tất cả các chữ cái đầu của mỗi từ rồi in lên màn hình\n",
    "\n",
    "Cách làm thông thường:"
   ]
  },
  {
   "cell_type": "code",
   "execution_count": 69,
   "id": "9f947c7d",
   "metadata": {},
   "outputs": [
    {
     "name": "stdout",
     "output_type": "stream",
     "text": [
      "Nhập vào một chuỗi:Xin Chào\n",
      "True\n",
      "Xin Chào\n"
     ]
    }
   ],
   "source": [
    "a = input(\"Nhập vào một chuỗi:\")\n",
    "a0 = a\n",
    "kiemtra = False\n",
    "\n",
    "for i in range(len(chuoi)):\n",
    "    b = a.find(\" \")\n",
    "    check = a[b+1].isupper()\n",
    "    kiemtra = kiemtra or check\n",
    "    viethoa = a[b+1].upper()\n",
    "    a0 = a0[:b+1] + viethoa + a0[b+2:]\n",
    "    a = a[:b] + \"*\" + a[b+1:]\n",
    "\n",
    "print(kiemtra)\n",
    "print(a0)"
   ]
  },
  {
   "cell_type": "code",
   "execution_count": 60,
   "id": "5d8541b3",
   "metadata": {},
   "outputs": [
    {
     "name": "stdout",
     "output_type": "stream",
     "text": [
      "xiN chào\n"
     ]
    }
   ],
   "source": [
    "a = \"xin chào\"\n",
    "a = a[:2] + \"N\" + a[2+1:]\n",
    "print(a)"
   ]
  },
  {
   "cell_type": "markdown",
   "id": "f43e32af",
   "metadata": {},
   "source": [
    "Cách sử dụng lệnh có sẵn:"
   ]
  },
  {
   "cell_type": "code",
   "execution_count": 57,
   "id": "714f1412",
   "metadata": {},
   "outputs": [
    {
     "name": "stdout",
     "output_type": "stream",
     "text": [
      "False\n",
      "Chuc Mung Nam Moi\n"
     ]
    }
   ],
   "source": [
    "st=\"Chuc Mung nam moi\"\n",
    "print(st.istitle())\n",
    "print(st.title())"
   ]
  },
  {
   "cell_type": "code",
   "execution_count": null,
   "id": "12efbd23",
   "metadata": {},
   "outputs": [],
   "source": [
    "\n",
    "\n",
    "      \n",
    "   "
   ]
  },
  {
   "cell_type": "code",
   "execution_count": null,
   "id": "b50580ba",
   "metadata": {},
   "outputs": [],
   "source": []
  }
 ],
 "metadata": {
  "kernelspec": {
   "display_name": "Python 3 (ipykernel)",
   "language": "python",
   "name": "python3"
  },
  "language_info": {
   "codemirror_mode": {
    "name": "ipython",
    "version": 3
   },
   "file_extension": ".py",
   "mimetype": "text/x-python",
   "name": "python",
   "nbconvert_exporter": "python",
   "pygments_lexer": "ipython3",
   "version": "3.10.1"
  }
 },
 "nbformat": 4,
 "nbformat_minor": 5
}
