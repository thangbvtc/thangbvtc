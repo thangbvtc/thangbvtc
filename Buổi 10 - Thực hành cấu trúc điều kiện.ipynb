{
 "cells": [
  {
   "cell_type": "markdown",
   "id": "dcdb816e",
   "metadata": {},
   "source": [
    "# Thực hành cấu trúc điều khiển\n",
    "\n",
    "### Bài 1\n",
    "\n",
    "Cho phương trình bậc 2: ax^2 + bx + c = 0\n",
    "\n",
    "Nhập a, b, c\n",
    "\n",
    "Giải và biện luận phương trình trên"
   ]
  },
  {
   "cell_type": "code",
   "execution_count": 1,
   "id": "b5a5c325",
   "metadata": {},
   "outputs": [
    {
     "name": "stdout",
     "output_type": "stream",
     "text": [
      "Giải phương trình bậc 2: ax^2 + bx + c = 0\n",
      "Nhập a: 2\n",
      "Nhập b: 6\n",
      "Nhập c: 3\n",
      "Phương trình có 2 nghiệm phân biệt!\n",
      "x1 =  -2.3660254037844384\n",
      "x2 =  -0.6339745962155614\n"
     ]
    }
   ],
   "source": [
    "from math import sqrt\n",
    "\n",
    "print(\"Giải phương trình bậc 2: ax^2 + bx + c = 0\")\n",
    "a = float(input(\"Nhập a: \"))\n",
    "b = float(input(\"Nhập b: \"))\n",
    "c = float(input(\"Nhập c: \"))\n",
    "\n",
    "if a == 0:\n",
    "    if b == 0:\n",
    "        if c == 0:\n",
    "            print(\"Phương trình vô số nghiệm!\")\n",
    "        else:\n",
    "            print(\"Phương trình vô nghiệm!\")\n",
    "    else:\n",
    "        if c == 0:\n",
    "            print(\"Phương trình có 1 nghiệm x = 0\")\n",
    "        else:\n",
    "            print(\"Phương trình có 1 nghiệm x = \", -c / b)\n",
    "else:\n",
    "    delta = b ** 2 - 4 * a * c\n",
    "    if delta < 0:\n",
    "        print(\"Phương trình vô nghiệm!\")\n",
    "    elif delta == 0:\n",
    "        print(\"Phương trình có 1 nghiệm x = \", -b / (2 * a))\n",
    "    else:\n",
    "        print(\"Phương trình có 2 nghiệm phân biệt!\")\n",
    "        print(\"x1 = \", float((-b - sqrt(delta)) / (2 * a)))\n",
    "        print(\"x2 = \", float((-b + sqrt(delta)) / (2 * a)))"
   ]
  },
  {
   "cell_type": "markdown",
   "id": "6f7d329d",
   "metadata": {},
   "source": [
    "### Bài 2\n",
    "\n",
    "Hãy nhập vào một số\n",
    "\n",
    "Xác định coi đó có phải là số nguyên tố hay không"
   ]
  },
  {
   "cell_type": "code",
   "execution_count": 151,
   "id": "049c85f5",
   "metadata": {},
   "outputs": [
    {
     "ename": "SyntaxError",
     "evalue": "invalid syntax (Temp/ipykernel_7496/4129975728.py, line 13)",
     "output_type": "error",
     "traceback": [
      "\u001b[1;36m  File \u001b[1;32m\"C:\\Users\\welcome\\AppData\\Local\\Temp/ipykernel_7496/4129975728.py\"\u001b[1;36m, line \u001b[1;32m13\u001b[0m\n\u001b[1;33m    check= n%i==0:\u001b[0m\n\u001b[1;37m                 ^\u001b[0m\n\u001b[1;31mSyntaxError\u001b[0m\u001b[1;31m:\u001b[0m invalid syntax\n"
     ]
    }
   ],
   "source": [
    "n = int(input(\"Nhập vào một số bất kỳ: \"))\n",
    "\n",
    "if n<2:\n",
    "    print(n, \"không phải số nguyên tố\")\n",
    "if n==2:\n",
    "    print(n, \"là số nguyên tố\")\n",
    "if n%2==0:\n",
    "    print(n, \"không là số nguyên tố\")\n",
    "if n>2:       \n",
    "    i=3\n",
    "    kiemtra = True\n",
    "    for i in range(n-1):\n",
    "        check= n%i==0:\n",
    "            kiemtra = kiemtra or check\n",
    "        else:\n",
    "             print(kiemtra, \"là số nguyên tố\")\n",
    "        \n",
    "        \n",
    "            \n",
    "\n",
    "   \n",
    "        \n",
    "    "
   ]
  },
  {
   "cell_type": "markdown",
   "id": "75f7717b",
   "metadata": {},
   "source": [
    "### Bài 3\n",
    "\n",
    "Hãy nhập vào số n\n",
    "\n",
    "Hãy đếm số chữ số 0 tận cùng của n giai thừa\n",
    "\n",
    "(Bài này nâng cao, mọi người có thể bỏ qua)"
   ]
  },
  {
   "cell_type": "code",
   "execution_count": null,
   "id": "789e0e76",
   "metadata": {},
   "outputs": [],
   "source": []
  },
  {
   "cell_type": "markdown",
   "id": "29cd6c81",
   "metadata": {},
   "source": [
    "### Bài 4\n",
    "\n",
    "In ra tất cả các số chia hết cho 3 nhỏ hơn 100"
   ]
  },
  {
   "cell_type": "code",
   "execution_count": 5,
   "id": "0b848981",
   "metadata": {},
   "outputs": [
    {
     "name": "stdout",
     "output_type": "stream",
     "text": [
      "Nhập vào một số: 13\n",
      "4\n",
      "13 không chia hết cho 3\n"
     ]
    }
   ],
   "source": [
    "a = int(input(\"Nhập vào một số: \"))\n",
    "if 0 <= a<100:\n",
    "    if a == 3:\n",
    "        print(a, \"chia hết cho 3\")\n",
    "    elif a == 6:\n",
    "        print(a,\"chia hết cho 3\")\n",
    "    elif a == 9:\n",
    "        print(a, \"chia hết cho 3\")\n",
    "    else:\n",
    "        chuoi = str(a)\n",
    "        b = chuoi[0]\n",
    "        c = chuoi[1]\n",
    "        sothunhat = int(b)\n",
    "        sothuhai = int(c)\n",
    "        d = sothunhat + sothuhai\n",
    "        print(d)\n",
    "        if d%3==0:\n",
    "            print(a, \"chia hết cho 3\")\n",
    "        else:\n",
    "            print(a, \"không chia hết cho 3\")"
   ]
  },
  {
   "cell_type": "markdown",
   "id": "04dbf99b",
   "metadata": {},
   "source": [
    "### Bài 5\n",
    "\n",
    "In ra tất cả các số lẻ nhưng không chia hết cho 3 nhỏ hơn 100"
   ]
  },
  {
   "cell_type": "code",
   "execution_count": 3,
   "id": "769eb439",
   "metadata": {},
   "outputs": [
    {
     "name": "stdout",
     "output_type": "stream",
     "text": [
      "1 5 7 11 13 17 19 23 25 29 31 35 37 41 43 47 49 53 55 59 61 65 67 71 73 77 79 83 85 89 91 95 97 "
     ]
    }
   ],
   "source": [
    "for i in range(100):\n",
    "    if i%2!=0:\n",
    "        chuoi = str(i)\n",
    "        b = chuoi[0]\n",
    "        c = chuoi[-1]\n",
    "        sothunhat = int(b)\n",
    "        sothuhai = int(c)\n",
    "        d = sothunhat + sothuhai\n",
    "        if d%3!=0:\n",
    "            print(i, end=\" \")\n",
    "    i+=1\n",
    "   \n",
    "        "
   ]
  },
  {
   "cell_type": "markdown",
   "id": "26dd47fb",
   "metadata": {},
   "source": [
    "### Bài 5\n",
    "\n",
    "Tại một cửa hàng nọ có menu như sau:\n",
    "\n",
    "1. Gà rán giá 35k\n",
    "2. Hamburger giá 50k\n",
    "3. Pesi giá 10k\n",
    "\n",
    "Nhập số lượng món hàng cần mua\n",
    "\n",
    "Tính và in ra tổng giá tiền (hiển thị có dấu chấm mỗi 3 chữ số để người dùng để quan sát)\n",
    "\n",
    "Nếu giá trị đơn hàng trên 2 triệu, giảm 10% cho khách, trên 4 triệu, giảm 15%\n",
    "\n",
    "Tính và in ra tổng giá tiền được giảm (hiển thị có dấu chấm mỗi 3 chữ số để người dùng để quan sát)\n",
    "\n",
    "Tính và in ra tổng giá tiền khách cần trả (hiển thị có dấu chấm mỗi 3 chữ số để người dùng để quan sát)\n",
    "\n",
    "In ra dòng chữ \"Cảm ơn quý khách đã mua hàng\""
   ]
  },
  {
   "cell_type": "code",
   "execution_count": 163,
   "id": "8509df1e",
   "metadata": {},
   "outputs": [
    {
     "name": "stdout",
     "output_type": "stream",
     "text": [
      "Nhập số lượng gà rán: 1\n",
      "Nhập số lượng hamburger: 1\n",
      "Nhập vào số lượng Pepsi: 1\n",
      "Tổng số tiền phải trả là:  80750.0\n"
     ]
    }
   ],
   "source": [
    "sl1 = int(input(\"Nhập số lượng gà rán: \"))\n",
    "sl2 = int(input(\"Nhập số lượng hamburger: \"))\n",
    "sl3 = int(input(\"Nhập vào số lượng Pepsi: \"))\n",
    "tongtien = (35000*sl1)+(50000*sl2)+(10000*sl3)\n",
    "\n",
    "\n",
    "if 2000000<tongtien<4000000:\n",
    "    tienthanhtoan = tongtien * 0.9\n",
    "else: \n",
    "    tienthanhtoan = tongtien *0.85\n",
    "    \n",
    "from fractions import Fraction\n",
    "print(\"Tổng số tiền phải trả là: \",tienthanhtoan)\n",
    "    \n"
   ]
  },
  {
   "cell_type": "markdown",
   "id": "ab10a1ce",
   "metadata": {},
   "source": [
    "### Bài 6\n",
    "\n",
    "Nhập vào chiều cao (cm) và cân nặng (kg), tính số BMI và xét rồi xin kết quả theo dữ liệu sau:\n",
    "\n",
    "- BMI < 16: Gầy cấp độ III\n",
    "- 16 <= BMI < 17:  Gầy cấp độ II\n",
    "- 17<= BMI < 18.5: Gầy cấp độ I\n",
    "- 18.5 <= BMI < 25: Bình thường\n",
    "- 25 <= BMI < 30: Thừa cân\n",
    "- 30 <= BMI < 35 : Béo phì cấp độ I\n",
    "- 35 <= BMI < 40: Béo phì cấp độ II\n",
    "- BMI > 40: Béo phì cấp độ III"
   ]
  },
  {
   "cell_type": "code",
   "execution_count": 166,
   "id": "1058f441",
   "metadata": {},
   "outputs": [
    {
     "name": "stdout",
     "output_type": "stream",
     "text": [
      "Nhập vào chiều cao mét: 1.73\n",
      "Nhập vào cân nặng kg:100\n",
      "28.901734104046245\n",
      "Béo phì độ I\n"
     ]
    }
   ],
   "source": [
    "chieucao = float(input(\"Nhập vào chiều cao mét: \"))\n",
    "cannang = float(input(\"Nhập vào cân nặng kg:\"))\n",
    "bmi = (cannang)/(chieucao*2)\n",
    "print(bmi)\n",
    "if bmi<16:\n",
    "    print(\"Gầy cấp độ III\")\n",
    "elif bmi<17:\n",
    "    print(\"Gầy cấp độ II\")\n",
    "elif bmi< 18.5:\n",
    "    print(\"Gầy cấp độ I\")\n",
    "elif bmi< 25:\n",
    "    print(\"Bình thường\")\n",
    "elif bmi < 30:\n",
    "    print(\"Béo phì độ I\")\n",
    "elif bmi < 35:\n",
    "    print(\"Béo phì độ II\")\n",
    "elif bmi < 40:\n",
    "    print(\"Béo phì độ III\")\n",
    "    \n",
    "\n"
   ]
  },
  {
   "cell_type": "markdown",
   "id": "f7620342",
   "metadata": {},
   "source": [
    "### Bài 7\n",
    "\n",
    "Nhập ngày, tháng, năm. Hãy tính và in ra màn hình kể từ đầu năm đến ngày vừa nhập là bao nhiêu ngày."
   ]
  },
  {
   "cell_type": "code",
   "execution_count": null,
   "id": "4c57f0a5",
   "metadata": {},
   "outputs": [],
   "source": []
  },
  {
   "cell_type": "code",
   "execution_count": null,
   "id": "6ff44ded",
   "metadata": {},
   "outputs": [],
   "source": []
  },
  {
   "cell_type": "code",
   "execution_count": 113,
   "id": "4415253a",
   "metadata": {},
   "outputs": [
    {
     "name": "stdout",
     "output_type": "stream",
     "text": [
      "3\n",
      "9\n",
      "24\n"
     ]
    }
   ],
   "source": []
  },
  {
   "cell_type": "code",
   "execution_count": 154,
   "id": "b30dfdac",
   "metadata": {},
   "outputs": [],
   "source": []
  },
  {
   "cell_type": "code",
   "execution_count": 2,
   "id": "c60d794f",
   "metadata": {},
   "outputs": [
    {
     "name": "stdout",
     "output_type": "stream",
     "text": [
      "Nhap vao nam: 2022\n",
      "Nhâm Dần\n"
     ]
    }
   ],
   "source": [
    "#Tính Can Chi của năm\n",
    "chuoican = ['Canh', 'Tân', 'Nhâm', 'Quý', 'Giáp', 'Ất', 'Bính', 'Đinh','Mậu','Kỷ']\n",
    "chuoichi = ['Thân', 'Dậu', 'Tuất', 'Hợi','Tí','Sửu','Dần', 'Mão', 'Thìn', 'Tị', 'Ngọ', 'Mùi']\n",
    "\n",
    "nam = int(input(\"Nhap vao nam: \"))\n",
    "thutucan = nam % 10\n",
    "thutuchi = nam % 12\n",
    "print(chuoican[thutucan] + \" \" + chuoichi[thutuchi])"
   ]
  },
  {
   "cell_type": "code",
   "execution_count": null,
   "id": "5875dc81",
   "metadata": {},
   "outputs": [],
   "source": []
  }
 ],
 "metadata": {
  "kernelspec": {
   "display_name": "Python 3 (ipykernel)",
   "language": "python",
   "name": "python3"
  },
  "language_info": {
   "codemirror_mode": {
    "name": "ipython",
    "version": 3
   },
   "file_extension": ".py",
   "mimetype": "text/x-python",
   "name": "python",
   "nbconvert_exporter": "python",
   "pygments_lexer": "ipython3",
   "version": "3.10.1"
  }
 },
 "nbformat": 4,
 "nbformat_minor": 5
}
